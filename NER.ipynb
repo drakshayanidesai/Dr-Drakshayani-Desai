{
 "cells": [
  {
   "cell_type": "code",
   "execution_count": 27,
   "id": "324c2558",
   "metadata": {},
   "outputs": [
    {
     "name": "stdout",
     "output_type": "stream",
     "text": [
      "Requirement already satisfied: spacy in c:\\users\\dhattiyavar\\anaconda3\\lib\\site-packages (3.4.3)\n",
      "Requirement already satisfied: srsly<3.0.0,>=2.4.3 in c:\\users\\dhattiyavar\\anaconda3\\lib\\site-packages (from spacy) (2.4.5)\n",
      "Requirement already satisfied: numpy>=1.15.0 in c:\\users\\dhattiyavar\\anaconda3\\lib\\site-packages (from spacy) (1.23.5)\n",
      "Requirement already satisfied: murmurhash<1.1.0,>=0.28.0 in c:\\users\\dhattiyavar\\appdata\\roaming\\python\\python39\\site-packages (from spacy) (1.0.5)\n",
      "Requirement already satisfied: jinja2 in c:\\users\\dhattiyavar\\anaconda3\\lib\\site-packages (from spacy) (3.0.3)\n",
      "Requirement already satisfied: langcodes<4.0.0,>=3.2.0 in c:\\users\\dhattiyavar\\appdata\\roaming\\python\\python39\\site-packages (from spacy) (3.3.0)\n",
      "Requirement already satisfied: packaging>=20.0 in c:\\users\\dhattiyavar\\anaconda3\\lib\\site-packages (from spacy) (21.3)\n",
      "Requirement already satisfied: spacy-legacy<3.1.0,>=3.0.10 in c:\\users\\dhattiyavar\\appdata\\roaming\\python\\python39\\site-packages (from spacy) (3.0.10)\n",
      "Requirement already satisfied: pathy>=0.3.5 in c:\\users\\dhattiyavar\\appdata\\roaming\\python\\python39\\site-packages (from spacy) (0.6.2)\n",
      "Note: you may need to restart the kernel to use updated packages.\n"
     ]
    },
    {
     "name": "stderr",
     "output_type": "stream",
     "text": [
      "WARNING: Ignoring invalid distribution -pencv-python (c:\\users\\dhattiyavar\\appdata\\roaming\\python\\python39\\site-packages)\n",
      "WARNING: Ignoring invalid distribution -pencv-python-headless (c:\\users\\dhattiyavar\\appdata\\roaming\\python\\python39\\site-packages)\n",
      "WARNING: Ignoring invalid distribution -pencv-contrib-python (c:\\users\\dhattiyavar\\appdata\\roaming\\python\\python39\\site-packages)\n",
      "WARNING: Ignoring invalid distribution -illow (c:\\users\\dhattiyavar\\appdata\\roaming\\python\\python39\\site-packages)\n",
      "WARNING: Ignoring invalid distribution -pencv-python (c:\\users\\dhattiyavar\\appdata\\roaming\\python\\python39\\site-packages)\n",
      "WARNING: Ignoring invalid distribution -pencv-python-headless (c:\\users\\dhattiyavar\\appdata\\roaming\\python\\python39\\site-packages)\n",
      "WARNING: Ignoring invalid distribution -pencv-contrib-python (c:\\users\\dhattiyavar\\appdata\\roaming\\python\\python39\\site-packages)\n",
      "WARNING: Ignoring invalid distribution -illow (c:\\users\\dhattiyavar\\appdata\\roaming\\python\\python39\\site-packages)\n",
      "WARNING: Ignoring invalid distribution -pencv-python (c:\\users\\dhattiyavar\\appdata\\roaming\\python\\python39\\site-packages)\n",
      "WARNING: Ignoring invalid distribution -pencv-python-headless (c:\\users\\dhattiyavar\\appdata\\roaming\\python\\python39\\site-packages)\n",
      "WARNING: Ignoring invalid distribution -pencv-contrib-python (c:\\users\\dhattiyavar\\appdata\\roaming\\python\\python39\\site-packages)\n",
      "WARNING: Ignoring invalid distribution -illow (c:\\users\\dhattiyavar\\appdata\\roaming\\python\\python39\\site-packages)\n",
      "WARNING: Ignoring invalid distribution -pencv-python (c:\\users\\dhattiyavar\\appdata\\roaming\\python\\python39\\site-packages)\n",
      "WARNING: Ignoring invalid distribution -pencv-python-headless (c:\\users\\dhattiyavar\\appdata\\roaming\\python\\python39\\site-packages)\n",
      "WARNING: Ignoring invalid distribution -pencv-contrib-python (c:\\users\\dhattiyavar\\appdata\\roaming\\python\\python39\\site-packages)\n",
      "WARNING: Ignoring invalid distribution -illow (c:\\users\\dhattiyavar\\appdata\\roaming\\python\\python39\\site-packages)\n",
      "WARNING: Ignoring invalid distribution -pencv-python (c:\\users\\dhattiyavar\\appdata\\roaming\\python\\python39\\site-packages)\n",
      "WARNING: Ignoring invalid distribution -pencv-python-headless (c:\\users\\dhattiyavar\\appdata\\roaming\\python\\python39\\site-packages)\n",
      "WARNING: Ignoring invalid distribution -pencv-contrib-python (c:\\users\\dhattiyavar\\appdata\\roaming\\python\\python39\\site-packages)\n",
      "WARNING: Ignoring invalid distribution -illow (c:\\users\\dhattiyavar\\appdata\\roaming\\python\\python39\\site-packages)\n",
      "WARNING: Ignoring invalid distribution -pencv-python (c:\\users\\dhattiyavar\\appdata\\roaming\\python\\python39\\site-packages)\n",
      "WARNING: Ignoring invalid distribution -pencv-python-headless (c:\\users\\dhattiyavar\\appdata\\roaming\\python\\python39\\site-packages)\n",
      "WARNING: Ignoring invalid distribution -pencv-contrib-python (c:\\users\\dhattiyavar\\appdata\\roaming\\python\\python39\\site-packages)\n",
      "WARNING: Ignoring invalid distribution -illow (c:\\users\\dhattiyavar\\appdata\\roaming\\python\\python39\\site-packages)\n"
     ]
    },
    {
     "name": "stdout",
     "output_type": "stream",
     "text": [
      "Requirement already satisfied: requests<3.0.0,>=2.13.0 in c:\\users\\dhattiyavar\\appdata\\roaming\\python\\python39\\site-packages (from spacy) (2.28.1)\n",
      "Requirement already satisfied: catalogue<2.1.0,>=2.0.6 in c:\\users\\dhattiyavar\\anaconda3\\lib\\site-packages (from spacy) (2.0.8)\n",
      "Requirement already satisfied: spacy-loggers<2.0.0,>=1.0.0 in c:\\users\\dhattiyavar\\appdata\\roaming\\python\\python39\\site-packages (from spacy) (1.0.3)\n",
      "Requirement already satisfied: cymem<2.1.0,>=2.0.2 in c:\\users\\dhattiyavar\\appdata\\roaming\\python\\python39\\site-packages (from spacy) (2.0.5)\n",
      "Requirement already satisfied: thinc<8.2.0,>=8.1.0 in c:\\users\\dhattiyavar\\anaconda3\\lib\\site-packages (from spacy) (8.1.5)\n",
      "Requirement already satisfied: pydantic!=1.8,!=1.8.1,<1.11.0,>=1.7.4 in c:\\users\\dhattiyavar\\anaconda3\\lib\\site-packages (from spacy) (1.7.4)\n",
      "Requirement already satisfied: preshed<3.1.0,>=3.0.2 in c:\\users\\dhattiyavar\\appdata\\roaming\\python\\python39\\site-packages (from spacy) (3.0.5)\n",
      "Requirement already satisfied: typer<0.8.0,>=0.3.0 in c:\\users\\dhattiyavar\\anaconda3\\lib\\site-packages (from spacy) (0.3.2)\n",
      "Requirement already satisfied: setuptools in c:\\users\\dhattiyavar\\appdata\\roaming\\python\\python39\\site-packages (from spacy) (59.5.0)\n",
      "Requirement already satisfied: tqdm<5.0.0,>=4.38.0 in c:\\users\\dhattiyavar\\appdata\\roaming\\python\\python39\\site-packages (from spacy) (4.64.1)\n",
      "Requirement already satisfied: wasabi<1.1.0,>=0.9.1 in c:\\users\\dhattiyavar\\appdata\\roaming\\python\\python39\\site-packages (from spacy) (0.10.1)\n",
      "Requirement already satisfied: pyparsing!=3.0.5,>=2.0.2 in c:\\users\\dhattiyavar\\appdata\\roaming\\python\\python39\\site-packages (from packaging>=20.0->spacy) (2.4.7)\n",
      "Requirement already satisfied: smart-open<6.0.0,>=5.2.1 in c:\\users\\dhattiyavar\\appdata\\roaming\\python\\python39\\site-packages (from pathy>=0.3.5->spacy) (5.2.1)\n",
      "Requirement already satisfied: idna<4,>=2.5 in c:\\users\\dhattiyavar\\anaconda3\\lib\\site-packages (from requests<3.0.0,>=2.13.0->spacy) (3.3)\n",
      "Requirement already satisfied: charset-normalizer<3,>=2 in c:\\users\\dhattiyavar\\appdata\\roaming\\python\\python39\\site-packages (from requests<3.0.0,>=2.13.0->spacy) (2.1.1)\n"
     ]
    }
   ],
   "source": [
    "pip install spacy"
   ]
  },
  {
   "cell_type": "code",
   "execution_count": 1,
   "id": "5839a4fc",
   "metadata": {},
   "outputs": [],
   "source": [
    "trainData = [(\"Rajesh Nandina,rajeshnandina@gmail.com,+91 9440650722,Organisation Infosys Ltd.,Client Walmart,Project Type Development,Platform IBM Websphere Datapower XI50, XI52, IDG 7.6, API Connect,Role Datapower Developer,Designation Senior Associate Consultant,Organisation Tata Consultancy Services,Client American Express Travel Related Services (AMEX),Project Type Development, Test Support and Production Support(Devops), \",{\"entities\":[(0,14,\"Name\"),(15,38,\"Email\"),(67,78,\"Organisation\"),(87,94,\"Client\"),(191,210,\"Designation\"),(223,250,\"Designation\")]}),\n",
    "(\"Platform IBM Websphere Datapower XI50, XI52, IDG 7.6, IBM MQ, ,GDAS[Z/OS],Project Enterprise Utilities Operations [EUO Datapower],Role Datapower Developer,Technical Skills Hands on Experience on IBM Websphere Datapower, IBM API Connect, IBM Websphere,MQ, GDAS, SOAP UI,Knowledge on XSLT, XPATH, XSD, WSDL,Technical exposure on Automation tools (Selenium IDE,Selenium Web Driver),Knowledge on Python, MEAN (MongoDB, Express JS, Angular JS, Node JS) Stack, \",{\"entities\":[(135,154,\"Designation\"),(196,219,\"Skills \"),(220,236,\"Skills \"),(238,252,\"Skills \"),(262,269,\"Skills \"),(283,287,\"Skills \")]}),\n",
    "(\"Pavan S Duvvuri, d.pavansastry@gmail.com, +61-469759754,Tech Mahindra Limited,Team Lead,01/2018 till Date Melbourne,Australia,Tech Mahindra ,INDUSTRY AND DOMAIN Banking & Financial Services,CLIENT National Australia Bank,DURATION Sep-2017 to Present,ROLE Integration Delivery Lead and Designer,TECHNOLOGY and SKILL SETS Mule ESB, CloudHub, Anypoint Platform, IBM DataPower, SOAtest Jenkins, SOAtest, SOAP UI,RFHUTIL,INDUSTRY AND DOMAIN Retail and E-Commerce, \",{\"entities\":[(0,15,\"Name\"),(17,40,\"Email\"),(56,77,\"Organisation\"),(78,87,\"Designation\"),(198,221,\"Client\"),(256,281,\"Designation\")]}),\n",
    "(\"CLIENT Marks & Spencer,DURATION APR-2014 to Aug-2015,ROLE Technical Lead,TECHNOLOGY and SKILL SETS Mule 3.5,Anypoint Platform, Mule Management Console(MMC),IBM WebSphere Message, \",{\"entities\":[(7,22,\"Client\"),(99,107,\"Skills \"),(127,142,\"Skills \"),(143,155,\"Skills \"),(156,169,\"Skills \")]}),\n",
    "(\"Pavan S Duvvuri, d.pavansastry@gmail.com, +61-469759754,Tech Mahindra Limited,Team Lead,01/2018 till Date Melbourne,Australia,Tech Mahindra ,INDUSTRY AND DOMAIN Banking & Financial Services,CLIENT National Australia Bank,DURATION Sep-2017 to Present,ROLE Integration Delivery Lead and Designer,TECHNOLOGY and SKILL SETS Mule ESB, CloudHub, Anypoint Platform, IBM DataPower, SOAtest Jenkins, SOAtest, SOAP UI,RFHUTIL,INDUSTRY AND DOMAIN Retail and E-Commerce, \",{\"entities\":[(0,15,\"Name\"),(17,40,\"Email\"),(56,77,\"Organisation\"),(78,87,\"Designation\"),(198,221,\"Client\"),(256,281,\"Designation\")]}),\n",
    "(\"Broker 8.0, IBM MQ 7.5, IBM DataPower XB60, DataPower XI52, Oracle 11g, Jenkins, SOAP UI,RFHUTIL,INDUSTRY AND DOMAIN Retail and E-commerce,CLIENT Marks and Spencer,DURATION JUL-2012 to OCT-2013,ROLE Middleware Developer,TECHNOLOGY and SKILL SETS IBM WebSphere Message Broker 8.0, IBM MQ 7.5, IBM DataPower XB60, DataPower XI52, ,Oracle 11g, Jenkins, SOAP UI, RFHUTIL.\",{\"entities\":[(0,10,\"Skills \"),(198,219,\"Designation\")]}),\n",
    "(\"CLIENT Marks & Spencer,DURATION APR-2014 to Aug-2015,ROLE Technical Lead,TECHNOLOGY and SKILL SETS Mule 3.5,Anypoint Platform, Mule Management Console(MMC),IBM WebSphere Message, \",{\"entities\":[(7,22,\"Client\"),(99,107,\"Skills \"),(127,142,\"Skills \"),(143,155,\"Skills \"),(156,169,\"Skills \")]}),\n",
    "(\"Pavan S Duvvuri, d.pavansastry@gmail.com, +61-469759754,Tech Mahindra Limited,Team Lead,01/2018 till Date Melbourne,Australia,Tech Mahindra ,INDUSTRY AND DOMAIN Banking & Financial Services,CLIENT National Australia Bank,DURATION Sep-2017 to Present,ROLE Integration Delivery Lead and Designer,TECHNOLOGY and SKILL SETS Mule ESB, CloudHub, Anypoint Platform, IBM DataPower, SOAtest Jenkins, SOAtest, SOAP UI,RFHUTIL,INDUSTRY AND DOMAIN Retail and E-Commerce, \",{\"entities\":[(0,15,\"Name\"),(17,40,\"Email\"),(56,77,\"Organisation\"),(78,87,\"Designation\"),(198,221,\"Client\"),(256,281,\"Designation\")]}),\n",
    "]"
   ]
  },
  {
   "cell_type": "code",
   "execution_count": null,
   "id": "7cb41ac1",
   "metadata": {},
   "outputs": [],
   "source": [
    "trainData2 = [(\"Client Australia based Client Duration Feb 2019 Till Date Location Pune (India) Client US based Client Duration Jan 2017 Feb 2019 Location Pune (India)Client US based Client Duration Mar 2016 Dec 2016 Location Pune (India)\",{\"entities\":[(7,22,\"Client\"),(40,58,\"Duration\"),(68,80,\"Location\"),(88,103,\"Client\"),(114,131,\"Duration\"),(140,152,\"Location\"),(159,174,\"Client\"),(185,202,\"Duration\"),(211,223,\"Location\")]}),\n",
    "(\"Currently Working as Deliver Senior Software Engineer at Mphasis Feb 2019 till date Worked as Senior System Engineer at Infosys Ltd Oct-2017-Feb 2019 Worked as System Engineer at Infosys Ltd - Sep-2015 to Sep-2017. \",{\"entities\":[(29,53,\"Role\"),(57,64,\"Organisation\"),(66,84,\"Duration\"),(94,116,\"Role\"),(120,131,\"Organisation\"),(132,149,\"Duration\"),(160,175,\"Role\"),(179,190,\"Organisation\"),(193,214,\"Duration\")]}),\n",
    "(\"Amit Kumar Rai A1-107, Eon Homes, Hinjewadi Phase 3, Pune Contact No: +91-9810712693 E-mail: akr.amit03@gmail.com \",{\"entities\":[(0,15,\"Name\"),(93,113,\"Email\")]}),\n",
    "(\"medical, oil and gas, consumer electronics and energy.\",{\"entities\":[(31,53,\"Client-Domain\")]}),\n",
    "(\"Client : TE Connectivity Role : WMQ, IIB & WTX admin Organization : IBM India private ltd \",{\"entities\":[(9,24,\"Client\"),(32,52,\"Role\"),(68,89,\"Organisation\")]}),\n",
    "(\"Client : State Street Corporation Role : WMQ/IIB Administrator Organization : IBM India private ltd State Street Corporation, known as State Street, is an American worldwide financial services company. \",{\"entities\":[(9,34,\"Client\"),(41,62,\"Role\"),(78,99,\"Organisation\"),(174,200,\"Client-Domain\")]}),\n",
    "(\"Worked as WMQ/IIB Administrator in IBM INDIA PVT LTD Hyderabad from Aug 2015 to March 2018. Working as WMQ/IIB Administrator in IBM INDIA PVT LTD (client) from Aug 2018 to till now \",{\"entities\":[(35,52,\"Organisation\"),(53,62,\"Location\"),(68,90,\"Duration\"),(103,124,\"Role\"),(128,145,\"Organisation\"),(160,180,\"Duration\")]}),\n",
    "(\"Shiva krishna Morampudi E mail:shivakrishnamqmb@gmail.com IBM WMQ Administrator. \",{\"entities\":[(0,24,\"Name\"),(31,57,\"Email\"),(58,80,\"Role\")]}),\n",
    "(\"Client : Mikado India Duration : Mar 2018 Till date Tools : IBM Websphere MQ 7.5,8.0.08 and RedHat Unix 6. Role : Websphere MQ Admin Mikado India is a Combination of products which are under Broadridge internal systems. We are having GPTM, APTP and Gloss with multiple clients all over the world.\",{\"entities\":[(9,21,\"Client\"),(34,48,\"Duration\")]}),\n",
    "(\"Wal-Mart Stores, Inc.doing business Walmart, is an American multinational retailing corporation that operates as a chain of hypermarkets, discount department stores and grocery stores Headquartered in Bentonville, Arkansasthe company was founded by Sam Walton in 1962 and incorporated on October 31, 1969 \",{\"entities\":[(169,184,\"Client-Domain\")]}),\n",
    "(\"Client : Walmart Tools : Websphere MQ, MB, Mainframes and Datapower. Duration : Mar'2016 to Mar 2018 Role : Middleware Administrator. \",{\"entities\":[(9,16,\"Client\"),(80,101,\"Duration\"),(108,132,\"Role\")]}),\n",
    "(\"Currently Working as a Middleware Administrator for Broadridge Financial Solutions India Pvt. Ltd. From (Mar 2018 to till date). Worked as a MQ Administrator for IBM India Pvt. Ltd. From (Mar 2016 to Mar 2018) \",{\"entities\":[(22,47,\"Role\"),(52,98,\"Organisation\"),(105,126,\"Duration\"),(141,157,\"Role\"),(162,181,\"Role\"),(188,208,\"Duration\")]}),\n",
    "(\"Sheshasai Dyavanapally Websphere MQ/MB and Unix Administration Email : sheshasaid@gmail.com \",{\"entities\":[(0,22,\"Name\"),(23,63,\"Role\"),(71,91,\"Email\")]}),\n",
    "(\"Telefonica O2 (UK Client) August 2018 to Present\",{\"entities\":[(0,26,\"Client\"),(26,48,\"Duration\")]}),\n",
    "(\"GAP (US Client) January 2016 to March 2017 DIAGEO (UK Client) March 2017 to August 2018 \",{\"entities\":[(0,15,\"Client\"),(16,42,\"Duration\"),(43,61,\"Client\"),(62,87,\"Duration\")]}),\n",
    "(\"Sumit Kapoor IBM API Connect Developer Sumit.kapoor7838@gmail.co \",{\"entities\":[(0,12,\"Name\"),(13,38,\"Role\"),(39,64,\"Email\")]}),\n",
    "(\"CLIENT: C-EDGE Duration: From Dec 2016 to July 2019 Location: Mumbai\",{\"entities\":[(8,15,\"Client\"),(30,51,\"Duration\"),(62,68,\"Location\")]}),\n",
    "(\"SUDHEER PALAKURTHI Email : sudheer.palakurthi@eidiko.com CLIENT: YES Bank Duration: Dec 2019 to till date Location: Mumbai CLIENT: FEDERAL BANK (Migration) Duration: July 2019 to Dec 2019 Location: Kerala \",{\"entities\":[(0,19,\"Name\"),(27,56,\"Email\"),(65,73,\"Client\"),(84,105,\"Duration\"),(116,122,\"Location\"),(131,143,\"Client\"),(166,187,\"Duration\"),(198,204,\"Location\")]}),\n",
    "(\"Role Description : Technology Lead Client : Vodafone India Software : IBM Integration Bus, IBM Websphere MQ Duration : June 2017 to Feb 201Role Description : Technology Lead Bus Client : Air Canada Duration : March 2019 to till date.Role Description : Senior Integration Developer\",{\"entities\":[(44,58,\"Client\"),(19,35,\"Role\"),(119,139,\"Duration\"),(187,197,\"Client\"),(209,232,\"Duration\"),(252,280,\"Role\")]}),\n",
    "(\"Role Description : Associate (Senior Integration Developer) Client : Coventry Building Society (CBS) Duration : May 2016 to April 2017. \",{\"entities\":[(30,58,\"Role\"),(69,100,\"Client\"),(112,135,\"Duration\")]}),\n",
    "(\"Role Description : Software Engineer (Integration Developer) Client : Barclays Duration : Feb 2013 to July 2014. Role Description : Systeme Engineer (Integration Developer) Client : Barclays Duration : July 2014 to April 2016. \",{\"entities\":[(18,37,\"Role\"),(70,78,\"Client\"),(90,110,\"Duration\"),(132,149,\"Role\"),(182,190,\"Client\"),(202,226,\"Duration\")]}),\n",
    "(\"Date of Employment : June 2017 to till date Platform : IBM WebSphere Message Broker v7.0.02Client : MetLife Duration : July 2010 till Dec 2012 bSphere Portlet Factory. Duration : Aug 2012 till FEB 2013.Role Description : Software Engineer (Integration Developer) Duration : July 2010 till Dec 2012 \",{\"entities\":[(21,43,\"Duration\"),(100,107,\"Client\"),(119,142,\"Duration\"),(179,201,\"Duration\"),(221,238,\"Role\"),(274,297,\"Duration\")]}),\n",
    "(\"Role : Associate (Senior Integration Developer) Date of Employment : July 2014 to June 2017 Employer 4 : IBM India Pvt Ltd Role : Senior System Analyst (Technology lead) \",{\"entities\":[(18,46,\"Role\"),(69,91,\"Duration\"),(105,122,\"Organisation\"),(130,151,\"Role\")]}),\n",
    "(\"Email:joshiprashant85@gmail.com Employer 2 : IBM India Pvt Ltd Role : System Engineer (Business Integration Developer) Date of Employment : Feb 2013 to July2104 Employer 3 : Cognizant Technology Solutions \",{\"entities\":[(6,31,\"Email\"),(45,62,\"Organisation\"),(70,85,\"Role\"),(140,160,\"Duration\"),(174,204,\"Organisation\")]}),\n",
    "(\"Client Southern California Edison, California (SCE) Role: Technical Lead Client Independence Blue Cross, Pennsylvania Role: Senior Software Engineer Client BlueCross BlueShield, Minnesota Role: Lead Developer Client BlueCross BlueShield, Minnesota\",{\"entities\":[(7,33,\"Client\"),(35,46,\"Location\"),(57,72,\"Role\"),(80,103,\"Client\"),(105,117,\"Location\"),(124,148,\"Role\"),(156,176,\"Client\"),(194,209,\"Role\"),(216,247,\"Client\")]}),\n",
    "(\"Project Carters Application Support Client The William Carters Company (Atlanta) Project Automated Benchmarking System (ABS) Client Southern California Edison, California (SCE) Client Independence Blue Cross, Pennsylvania \",{\"entities\":[(131,159,\"Client\"),(160,170,\"Location\"),(184,207,\"Client\"),(209,221,\"Location\")]}),\n",
    "(\"Project Tech 2.0 Client Diwan Housing Finance Limited, MumbaiProject Carters Application Support Client The William Carters Company (Atlanta) \",{\"entities\":[(23,54,\"Client\"),(55,61,\"Location\"),(104,132,\"Client\"),(133,140,\"Location\")]}),\n",
    "(\"Kartheek Gangesetti Email: kartheek.gangesetti@gmail.com May2017-Till Date Project DOW Client DOW CHEMICHALS \",{\"entities\":[(0,19,\"Name\"),(27,56,\"Email\"),(57,75,\"Duration\"),(94,108,\"Client\")]}),\n",
    "(\"Name: Satya Krishna Areti Mobile: +91-9848773388. Email: satyaareti@gmail.com Software Engineer, InfoBase systems pvt ltd 2012 Jun - 2016 Sep Senior Software engineer, Candela labs 2016 Sep - 2018 Jan Senior Software engineer, Team Lease Digital 2018 Jan to till date\",{\"entities\":[(6,25,\"Name\"),(57,77,\"Email\"),(78,95,\"Role\"),(97,121,\"Client\"),(122,141,\"Duration\"),(142,167,\"Role\"),(168,181,\"Client\"),(181,200,\"Duration\"),(201,225,\"Role\"),(246,267,\"Duration\")]}),\n",
    "(\"Project #3 : Ericsson Business Integration Platform(EBIP) Client : ERICSSON, Responsibilities : Application Developer Duration : Feb 2012- March 2016 Project #3 : DEC/EDI Client : Ericsson, Responsibilities : Development and Application operation Duration : Feb 2011- Jan 2012\",{\"entities\":[(13,51,\"Organisation\"),(67,75,\"Client\"),(96,117,\"Role\"),(129,149,\"Duration\"),(258,276,\"Duration\")]}),\n",
    "(\"Project #2 : Capgemini India Client : BARCLAYS, Responsibilities : Application Developer, Enhancements, Duration : April 2016 Dec 2018 Description:Barclays is a leading bank across the world \",{\"entities\":[(13,28,\"Organisation\"),(38,46,\"Client\"),(67,88,\"Role\"),(116,136,\"Duration\"),(161,173,\"Client_Domain\")]}),\n",
    "(\"Project #1 : Mphasis Client : Statutory authority of the state government (Australia based) Duration : Dec 2018 - Till now \",{\"entities\":[(13,20,\"Organisation\"),(29,73,\"Client\"),(74,90,\"Location\"),(103,122,\"Duration\")]}),\n",
    "(\"SUNILKUMAR JEERANKALAGI Mobile : +91 9686722522 Email : sunilkdj@gmail.com Application Developer in IBM INDIA PVT LTD from June 2010 to March 2016. Consultant in Capgemini from April 2016 to Dec 2018. Delivery Module Lead in Mphasis from Dec 2018 till now. \",{\"entities\":[(0,23,\"Name\"),(56,75,\"Email\"),(75,96,\"Role\"),(100,117,\"Organisation\"),(123,146,\"Duration\"),(162,171,\"Client\"),(225,233,\"Organisation\"),(201,221,\"Role\"),(176,199,\"Duration\"),(238,255,\"Duration\")]}),\n",
    "(\"Project: Enterprise Middleware Integration (EMI) Client: American Express -Leading Bank in USA.(On Behalf of Infosys) at offshore. Technology/Tool: IBM WebSphere MQ 7.0, Solace Systems, Mainframe Z/OS, IBM Tivoli Monitoring, UNIX. Duration: Sep 2014 Mar2016\",{\"entities\":[(57,73,\"Client\"),(75,87,\"Client_Domain\"),(91,94,\"Location\"),(242,258,\"Duration\")]}),\n",
    "(\"Project: MCoE (Multi Channel Centre of Excellence) Client: AETNA- Leading Insurance Provider in USA. (On Behalf of Infosys) at offshore. Technology/Tool: IBM tools like IIB for development and Integration, RFHUtil and SOAP Client for testing and Clear Case/ GitHub for RM.Duration : Mar 2016 31 Aug 2017. \",{\"entities\":[(59,64,\"Client\"),(74,92,\"Client_Domain\"),(99,99,\"Location\"),(284,305,\"Duration\")]}),\n",
    "(\"Project: IBANKING (Corporate Banking channel)Client: FAB- Leading Bank in UAE and Gulf. (On Behalf of Cognizant) at Onsite.Technology/Tool: IBM tools like IIB for development and Integration, RFHUtil and SOAP Client for testing and RTC for RM. Duration : Sep 2017- Till Date. \",{\"entities\":[(256,276,\"Duration\")]}),\n",
    "(\"Sahil Kumar Email: shlkmr7@gmail.com Working as Associate with Cognizant Technology Solutions, having total 5.4 years of IT \",{\"entities\":[(0,11,\"Name\"),(19,36,\"Email\"),(63,93,\"Organisation\")]}),\n",
    "(\"Project Name Walgreens Shopping Cart Model Duration October 2014 February 2015 Client Western Union\",{\"entities\":[(88,101,\"Client\"),(54,80,\"Duration\")]}),\n",
    "(\"Project Name Germany Mobile Payments Duration July 2019 November 2019 Client Barclays Project Name Data Power rules creation for New Services. testing Testing . Duration Jun 2015 May 2017 Client Western Union. \",{\"entities\":[(46,70,\"Duration\"),(77,85,\"Client\"),(171,188,\"Duration\"),(195,208,\"Client\")]}),\n",
    "(\"Project Name Remediation Project - Data Power Integration. testing Testing .Duration Feb 2019 Sept 2019 Client Barclays Project Name Third part security implementation using Data power POC using Oauth. testing Testing . Duration March 2019 May 2019 Client Barclays. Project Name MQ service on boarding implementation using Data power. testing Testing .Duration July 2018 October 2018 Client Barclays \",{\"entities\":[(86,104,\"Duration\"),(111,119,\"Client\"),(229,248,\"Duration\"),(256,264,\"Client\")]}),\n",
    "(\"Employer 2 Opus Software Technologies Pvt LTD. Location Commerzone IT Park, Yerwada Duration July 2014- May 2017 Designation Associate Developer Project Name BEMNG New Gateway implementation Development Duration Oct 2019- Till the Date Client Barclays \",{\"entities\":[(11,45,\"Organisation\"),(56,84,\"Location\"),(93,112,\"Duration\"),(125,144,\"Role\"),(243,251,\"Client\"),(212,235,\"Duration\")]}),\n",
    "(\"Mrunalini Baburao Sinnarkar Email ID:mrunalinisinnarkar1@gmail.com Employer 1 Capgemini India Pvt. LTD. Location MIDC Park ,Talwade Duration June 2017 - Till date Designation Associate Consultant. \",{\"entities\":[(0,27,\"Name\"),(37,66,\"Email\"),(78,102,\"Organisation\"),(113,131,\"Location\"),(141,162,\"Duration\"),(175,195,\"Role\")]}),\n",
    "(\" is an American multinational insurance corporation with more than 88 million customers in 130 countries.\",{\"entities\":[(29,52,\"Client_Domain\")]}),\n",
    "(\"Hemanth Dasari Email: hemanth.rd1986@gmail.com Phone: +91-9398426037 Client : American International Group, Inc. Organization : Mphasis Ltd. Designation : Module Lead - Systems Role : Middleware Administrator \",{\"entities\":[(0,14,\"Name\"),(22,46,\"Email\"),(78,112,\"Client\"),(128,140,\"Organisation\"),(155,166,\"Role\"),(184,208,\"Role\")]}),\n",
    "(\"Client : BlueShield of California Tools : IBM WMB 7.0, WebSphere MQ 7.0 And SQL. Role : WMB Developer Period : Mar13 to Jun14.\",{\"entities\":[(9,33,\"Client\"),(88,101,\"Role\"),(110,126,\"Duration\")]}),\n",
    "(\"Client : Delta Air Line, US Role : WMB Developer Period : July14 June16 Delta Air Lines is a major airlines based in the United States and Headquartered in Atlanta. \",{\"entities\":[(8,23,\"Client\"),(35,49,\"Role\"),(58,71,\"Duration\"),(156,164,\"Location\")]}),\n",
    "(\"Client : Bharti Infratel (Telecommunications Industry) Role : Integration Developer Period : Aug16 Oct17 Bharti Infratel, owned by Sunil Bharti Mittal is one of the largest tower infrastructure providers in India and also has around 42% equity interest in Indus Towers \",{\"entities\":[(9,25,\"Client\"),(62,83,\"Role\"),(93,104,\"Duration\"),(105,120,\"Client\")]}),\n",
    "(\"Client : TJX (E-Commerce Industry) Role : Integration Developer Period : Oct17 Till date The TJX Companies, Inc. is the leading off-price retailer of apparel and home fashions in the U.S. and worldwide, ranking No. 87 in the 2017 Fortune 500 listings \",{\"entities\":[(8,34,\"Client\"),(42,63,\"Role\"),(73,88,\"Duration\"),(93,106,\"Client\"),(138,175,\"Client_Domain\")]}),\n",
    "(\"Pratap Kunuku Phone: +919550908143 Mail: prathapk0285@gmail.com Oct17 -Till Present: Wipro technologies Ltd. as Senior Systems Engineer. Aug16 -Oct17: IBM India Pvt. Ltd. as Senior Systems Engineer. Mar13 Aug16: TCS as Software Development Analyst. \",{\"entities\":[(0,13,\"Name\"),(41,64,\"Email\"),(64,76,\"Duration\"),(85,108,\"Organisation\"),(112,135,\"Role\"),(137,149,\"Duration\"),(151,169,\"Organisation\"),(174,197,\"Role\"),(199,210,\"Duration\"),(212,215,\"Organisation\"),(219,247,\"Role\")]}),\n",
    "(\" is an American multinational insurance corporation with more than 88 million customers in 130 countries.\",{\"entities\":[(29,52,\"Client_Domain\")]}),\n",
    "(\"Hemanth Dasari Email: hemanth.rd1986@gmail.com Phone: +91-9398426037 Client : American International Group, Inc. Organization : Mphasis Ltd. Designation : Module Lead - Systems Role : Middleware Administrator \",{\"entities\":[(0,14,\"Name\"),(22,46,\"Email\"),(78,112,\"Client\"),(128,140,\"Organisation\"),(155,166,\"Role\"),(184,208,\"Role\")]}),]"
   ]
  },
  {
   "cell_type": "code",
   "execution_count": 2,
   "id": "87e41ba7",
   "metadata": {},
   "outputs": [
    {
     "name": "stderr",
     "output_type": "stream",
     "text": [
      "100%|███████████████████████████████████████████████████████████████████████████████████| 8/8 [00:00<00:00, 512.16it/s]"
     ]
    },
    {
     "name": "stdout",
     "output_type": "stream",
     "text": [
      "Skipping entity\n",
      "Skipping entity\n",
      "Skipping entity\n"
     ]
    },
    {
     "name": "stderr",
     "output_type": "stream",
     "text": [
      "\n"
     ]
    }
   ],
   "source": [
    "import spacy\n",
    "from spacy.tokens import DocBin\n",
    "from tqdm import tqdm\n",
    "nlp = spacy.blank('en') # load a new spacy model\n",
    "db = DocBin() # create a DocBin object\n",
    "for text, annot in tqdm(trainData): # data in previous format\n",
    "    doc = nlp.make_doc(text) # create doc object from text\n",
    "    ents = []\n",
    "    for start, end, label in annot['entities']: # add character indexes\n",
    "        span = doc.char_span(start, end, label=label, alignment_mode='contract')\n",
    "        if span is None:\n",
    "            print('Skipping entity')\n",
    "        else:\n",
    "            ents.append(span)\n",
    "    try:\n",
    "        doc.ents = ents # label the text with the ents\n",
    "        db.add(doc)\n",
    "    except:\n",
    "        print(text, annot)\n",
    "db.to_disk('./train.spacy') # save the docbin object\n",
    "#db.to_disk(r'C:\\Users\\DHattiyavar\\Anaconda3\\Sapcy') # save the docbin object"
   ]
  },
  {
   "cell_type": "code",
   "execution_count": 3,
   "id": "cc9cb869",
   "metadata": {},
   "outputs": [
    {
     "name": "stdout",
     "output_type": "stream",
     "text": [
      "[+] Auto-filled config with all values\n",
      "[+] Saved config\n",
      "config.cfg\n",
      "You can now add your data and train your pipeline:\n",
      "python -m spacy train config.cfg --paths.train ./train.spacy --paths.dev ./dev.spacy\n"
     ]
    },
    {
     "name": "stderr",
     "output_type": "stream",
     "text": [
      "2022-12-13 08:47:27.349094: W tensorflow/stream_executor/platform/default/dso_loader.cc:64] Could not load dynamic library 'cudart64_110.dll'; dlerror: cudart64_110.dll not found\n",
      "2022-12-13 08:47:27.349134: I tensorflow/stream_executor/cuda/cudart_stub.cc:29] Ignore above cudart dlerror if you do not have a GPU set up on your machine.\n",
      "2022-12-13 08:47:30.614012: W tensorflow/stream_executor/platform/default/dso_loader.cc:64] Could not load dynamic library 'nvcuda.dll'; dlerror: nvcuda.dll not found\n",
      "2022-12-13 08:47:30.614041: W tensorflow/stream_executor/cuda/cuda_driver.cc:269] failed call to cuInit: UNKNOWN ERROR (303)\n",
      "2022-12-13 08:47:30.620247: I tensorflow/stream_executor/cuda/cuda_diagnostics.cc:169] retrieving CUDA diagnostic information for host: PRO-IND-1056\n",
      "2022-12-13 08:47:30.620386: I tensorflow/stream_executor/cuda/cuda_diagnostics.cc:176] hostname: PRO-IND-1056\n"
     ]
    }
   ],
   "source": [
    "!python -m spacy init fill-config base_config.cfg config.cfg"
   ]
  },
  {
   "cell_type": "code",
   "execution_count": 4,
   "id": "a82f9e21",
   "metadata": {},
   "outputs": [
    {
     "name": "stdout",
     "output_type": "stream",
     "text": [
      "[i] Saving to output directory: output\n",
      "[i] Using CPU\n",
      "\u001b[1m\n",
      "=========================== Initializing pipeline ===========================\u001b[0m\n",
      "[+] Initialized pipeline"
     ]
    },
    {
     "name": "stderr",
     "output_type": "stream",
     "text": [
      "2022-12-13 08:48:18.188758: W tensorflow/stream_executor/platform/default/dso_loader.cc:64] Could not load dynamic library 'cudart64_110.dll'; dlerror: cudart64_110.dll not found\n",
      "2022-12-13 08:48:18.188797: I tensorflow/stream_executor/cuda/cudart_stub.cc:29] Ignore above cudart dlerror if you do not have a GPU set up on your machine.\n",
      "2022-12-13 08:48:20.967936: W tensorflow/stream_executor/platform/default/dso_loader.cc:64] Could not load dynamic library 'nvcuda.dll'; dlerror: nvcuda.dll not found\n",
      "2022-12-13 08:48:20.967969: W tensorflow/stream_executor/cuda/cuda_driver.cc:269] failed call to cuInit: UNKNOWN ERROR (303)\n",
      "2022-12-13 08:48:20.974013: I tensorflow/stream_executor/cuda/cuda_diagnostics.cc:169] retrieving CUDA diagnostic information for host: PRO-IND-1056\n",
      "2022-12-13 08:48:20.974165: I tensorflow/stream_executor/cuda/cuda_diagnostics.cc:176] hostname: PRO-IND-1056\n",
      "[2022-12-13 08:48:21,866] [INFO] Set up nlp object from config\n",
      "[2022-12-13 08:48:21,866] [INFO] Pipeline: ['tok2vec', 'ner']\n",
      "[2022-12-13 08:48:21,866] [INFO] Created vocabulary\n",
      "[2022-12-13 08:48:23,665] [INFO] Added vectors: en_core_web_lg\n",
      "[2022-12-13 08:48:25,020] [INFO] Finished initializing nlp object\n",
      "[2022-12-13 08:48:25,645] [INFO] Initialized pipeline components: ['tok2vec', 'ner']\n"
     ]
    },
    {
     "name": "stdout",
     "output_type": "stream",
     "text": [
      "\n",
      "\u001b[1m\n",
      "============================= Training pipeline =============================\u001b[0m\n",
      "[i] Pipeline: ['tok2vec', 'ner']\n",
      "[i] Initial learn rate: 0.001\n",
      "E    #       LOSS TOK2VEC  LOSS NER  ENTS_F  ENTS_P  ENTS_R  SCORE \n",
      "---  ------  ------------  --------  ------  ------  ------  ------\n",
      "  0       0          0.00     41.35    0.00    0.00    0.00    0.00\n",
      " 32     200        475.35   2172.00  100.00  100.00  100.00    1.00\n",
      " 69     400          0.00      0.00  100.00  100.00  100.00    1.00\n",
      "117     600          0.00      0.00  100.00  100.00  100.00    1.00\n",
      "180     800          0.00      0.00  100.00  100.00  100.00    1.00\n",
      "254    1000          0.00      0.00  100.00  100.00  100.00    1.00\n",
      "353    1200          0.00      0.00  100.00  100.00  100.00    1.00\n",
      "453    1400          0.00      0.00  100.00  100.00  100.00    1.00\n",
      "612    1600          0.00      0.00  100.00  100.00  100.00    1.00\n",
      "812    1800          0.00      0.00  100.00  100.00  100.00    1.00\n",
      "[+] Saved pipeline to output directory\n",
      "output\\model-last\n"
     ]
    }
   ],
   "source": [
    "#!python -m spacy train config.cfg --output ./output --paths.train ./train.spacy --paths.dev ./train.spacy"
   ]
  },
  {
   "cell_type": "code",
   "execution_count": 5,
   "id": "0c9e26ea",
   "metadata": {},
   "outputs": [],
   "source": [
    "nlp_ner = spacy.load(\"output/model-last\")"
   ]
  },
  {
   "cell_type": "code",
   "execution_count": 6,
   "id": "923fd10d",
   "metadata": {},
   "outputs": [
    {
     "data": {
      "text/html": [
       "<span class=\"tex2jax_ignore\"><div class=\"entities\" style=\"line-height: 2.5; direction: ltr\"> \n",
       "<mark class=\"entity\" style=\"background: #ddd; padding: 0.45em 0.6em; margin: 0 0.25em; line-height: 1; border-radius: 0.35em;\">\n",
       "    Pavan S Duvvuri\n",
       "    <span style=\"font-size: 0.8em; font-weight: bold; line-height: 1; border-radius: 0.35em; vertical-align: middle; margin-left: 0.5rem\">Name</span>\n",
       "</mark>\n",
       " \n",
       "<mark class=\"entity\" style=\"background: #ddd; padding: 0.45em 0.6em; margin: 0 0.25em; line-height: 1; border-radius: 0.35em;\">\n",
       "    d.pavansastry@gmail.com\n",
       "    <span style=\"font-size: 0.8em; font-weight: bold; line-height: 1; border-radius: 0.35em; vertical-align: middle; margin-left: 0.5rem\">Email</span>\n",
       "</mark>\n",
       ",M&amp;S.com \n",
       "<mark class=\"entity\" style=\"background: #ddd; padding: 0.45em 0.6em; margin: 0 0.25em; line-height: 1; border-radius: 0.35em;\">\n",
       "    Middleware Development\n",
       "    <span style=\"font-size: 0.8em; font-weight: bold; line-height: 1; border-radius: 0.35em; vertical-align: middle; margin-left: 0.5rem\">Designation</span>\n",
       "</mark>\n",
       "</br>Retail and E-Commerce \n",
       "<mark class=\"entity\" style=\"background: #ddd; padding: 0.45em 0.6em; margin: 0 0.25em; line-height: 1; border-radius: 0.35em;\">\n",
       "    Marks &amp; Spencer\n",
       "    <span style=\"font-size: 0.8em; font-weight: bold; line-height: 1; border-radius: 0.35em; vertical-align: middle; margin-left: 0.5rem\">Client</span>\n",
       "</mark>\n",
       " APR-2014 to Aug-2015 Technical Lead \n",
       "<mark class=\"entity\" style=\"background: #ddd; padding: 0.45em 0.6em; margin: 0 0.25em; line-height: 1; border-radius: 0.35em;\">\n",
       "    Mule\n",
       "    <span style=\"font-size: 0.8em; font-weight: bold; line-height: 1; border-radius: 0.35em; vertical-align: middle; margin-left: 0.5rem\">Skills </span>\n",
       "</mark>\n",
       " 3.5,Anypoint Platform, \n",
       "<mark class=\"entity\" style=\"background: #ddd; padding: 0.45em 0.6em; margin: 0 0.25em; line-height: 1; border-radius: 0.35em;\">\n",
       "    Mule Management\n",
       "    <span style=\"font-size: 0.8em; font-weight: bold; line-height: 1; border-radius: 0.35em; vertical-align: middle; margin-left: 0.5rem\">Skills </span>\n",
       "</mark>\n",
       " Console(MMC),IBM \n",
       "<mark class=\"entity\" style=\"background: #ddd; padding: 0.45em 0.6em; margin: 0 0.25em; line-height: 1; border-radius: 0.35em;\">\n",
       "    WebSphere\n",
       "    <span style=\"font-size: 0.8em; font-weight: bold; line-height: 1; border-radius: 0.35em; vertical-align: middle; margin-left: 0.5rem\">Skills </span>\n",
       "</mark>\n",
       " Message</br>\n",
       "<mark class=\"entity\" style=\"background: #ddd; padding: 0.45em 0.6em; margin: 0 0.25em; line-height: 1; border-radius: 0.35em;\">\n",
       "    Broker 8.0\n",
       "    <span style=\"font-size: 0.8em; font-weight: bold; line-height: 1; border-radius: 0.35em; vertical-align: middle; margin-left: 0.5rem\">Skills </span>\n",
       "</mark>\n",
       ", IBM MQ 7.5, IBM DataPower XB60, DataPower XI52, Oracle 11g, Jenkins, SOAP UI,RFHUTIL CLIENT National \n",
       "<mark class=\"entity\" style=\"background: #ddd; padding: 0.45em 0.6em; margin: 0 0.25em; line-height: 1; border-radius: 0.35em;\">\n",
       "    Australia Bank\n",
       "\n",
       "    <span style=\"font-size: 0.8em; font-weight: bold; line-height: 1; border-radius: 0.35em; vertical-align: middle; margin-left: 0.5rem\">Client</span>\n",
       "</mark>\n",
       "DURATION Sep-2017 to Present ROLE Integration \n",
       "<mark class=\"entity\" style=\"background: #ddd; padding: 0.45em 0.6em; margin: 0 0.25em; line-height: 1; border-radius: 0.35em;\">\n",
       "    Delivery Lead\n",
       "    <span style=\"font-size: 0.8em; font-weight: bold; line-height: 1; border-radius: 0.35em; vertical-align: middle; margin-left: 0.5rem\">Designation</span>\n",
       "</mark>\n",
       " and Designe CLIENT \n",
       "<mark class=\"entity\" style=\"background: #ddd; padding: 0.45em 0.6em; margin: 0 0.25em; line-height: 1; border-radius: 0.35em;\">\n",
       "    Albertsons\n",
       "DURATION\n",
       "    <span style=\"font-size: 0.8em; font-weight: bold; line-height: 1; border-radius: 0.35em; vertical-align: middle; margin-left: 0.5rem\">Client</span>\n",
       "</mark>\n",
       " Sep-2015 to Aug-2017 ROLE Technical Lead TECHNOLOGY and SKILL SETS \n",
       "<mark class=\"entity\" style=\"background: #ddd; padding: 0.45em 0.6em; margin: 0 0.25em; line-height: 1; border-radius: 0.35em;\">\n",
       "    Mule\n",
       "    <span style=\"font-size: 0.8em; font-weight: bold; line-height: 1; border-radius: 0.35em; vertical-align: middle; margin-left: 0.5rem\">Skills </span>\n",
       "</mark>\n",
       " 3.5,Anypoint Platform, Oracle 11g, Jenkins, SOAP UI,RFHUTI</br>CLIENT \n",
       "<mark class=\"entity\" style=\"background: #ddd; padding: 0.45em 0.6em; margin: 0 0.25em; line-height: 1; border-radius: 0.35em;\">\n",
       "    Marks &amp; Spencer\n",
       "    <span style=\"font-size: 0.8em; font-weight: bold; line-height: 1; border-radius: 0.35em; vertical-align: middle; margin-left: 0.5rem\">Client</span>\n",
       "</mark>\n",
       " DURATION APR-2014 to Aug-2015 ROLE Technical Lead</br></br></div></span>"
      ],
      "text/plain": [
       "<IPython.core.display.HTML object>"
      ]
     },
     "metadata": {},
     "output_type": "display_data"
    }
   ],
   "source": [
    "sentence = \"\"\" Pavan S Duvvuri d.pavansastry@gmail.com,M&S.com Middleware Development\n",
    "Retail and E-Commerce Marks & Spencer APR-2014 to Aug-2015 Technical Lead Mule 3.5,Anypoint Platform, Mule Management Console(MMC),IBM WebSphere Message\n",
    "Broker 8.0, IBM MQ 7.5, IBM DataPower XB60, DataPower XI52, Oracle 11g, Jenkins, SOAP UI,RFHUTIL CLIENT National Australia Bank\n",
    "DURATION Sep-2017 to Present ROLE Integration Delivery Lead and Designe CLIENT Albertsons\n",
    "DURATION Sep-2015 to Aug-2017 ROLE Technical Lead TECHNOLOGY and SKILL SETS Mule 3.5,Anypoint Platform, Oracle 11g, Jenkins, SOAP UI,RFHUTI\n",
    "CLIENT Marks & Spencer DURATION APR-2014 to Aug-2015 ROLE Technical Lead\n",
    "\n",
    "\"\"\"\n",
    "doc = nlp_ner(sentence)\n",
    "\n",
    "from spacy import displacy\n",
    "displacy.render(doc, style= 'ent', jupyter=True)"
   ]
  },
  {
   "cell_type": "code",
   "execution_count": 9,
   "id": "79a46991",
   "metadata": {},
   "outputs": [
    {
     "data": {
      "text/html": [
       "<span class=\"tex2jax_ignore\"><div class=\"entities\" style=\"line-height: 2.5; direction: ltr\"> \n",
       "<mark class=\"entity\" style=\"background: #ddd; padding: 0.45em 0.6em; margin: 0 0.25em; line-height: 1; border-radius: 0.35em;\">\n",
       "    Juan Jose\n",
       "    <span style=\"font-size: 0.8em; font-weight: bold; line-height: 1; border-radius: 0.35em; vertical-align: middle; margin-left: 0.5rem\">Name</span>\n",
       "</mark>\n",
       " \n",
       "<mark class=\"entity\" style=\"background: #ddd; padding: 0.45em 0.6em; margin: 0 0.25em; line-height: 1; border-radius: 0.35em;\">\n",
       "    Carin Data Scientist\n",
       "    <span style=\"font-size: 0.8em; font-weight: bold; line-height: 1; border-radius: 0.35em; vertical-align: middle; margin-left: 0.5rem\">Name</span>\n",
       "</mark>\n",
       " \n",
       "<mark class=\"entity\" style=\"background: #ddd; padding: 0.45em 0.6em; margin: 0 0.25em; line-height: 1; border-radius: 0.35em;\">\n",
       "    Mountain View\n",
       "    <span style=\"font-size: 0.8em; font-weight: bold; line-height: 1; border-radius: 0.35em; vertical-align: middle; margin-left: 0.5rem\">Designation</span>\n",
       "</mark>\n",
       ", CA 94041 650-336-4590 juanjose.carin@gmail.com \n",
       "<mark class=\"entity\" style=\"background: #ddd; padding: 0.45em 0.6em; margin: 0 0.25em; line-height: 1; border-radius: 0.35em;\">\n",
       "    linkedin.com/in/juanjosecarin\n",
       "    <span style=\"font-size: 0.8em; font-weight: bold; line-height: 1; border-radius: 0.35em; vertical-align: middle; margin-left: 0.5rem\">Skills </span>\n",
       "</mark>\n",
       " | juanjocarin.github.in DATA SCIENCE</br>Jan. 2016 – Mar. 2016 Data Scientist CONENTO Madrid, Spain (working remotely) Designed and implemented the ETL pipeline for a predictive model of traffic on the main roads in eastern Spain (a project for the Spanish government).Automated scripts in R to extract, transform, clean (incl. anomaly detection), and load into MySQL data from multiple data sources: road traffic sensors, accidents, road works, weather.</br>Jun. 2014 – Sep. 2014 Data Scientist CONENTO Madrid, Spain Designed an experiment for Google Spain (conducted in October 2014) to measure the impact of</br>YouTube \n",
       "<mark class=\"entity\" style=\"background: #ddd; padding: 0.45em 0.6em; margin: 0 0.25em; line-height: 1; border-radius: 0.35em;\">\n",
       "    ads on\n",
       "    <span style=\"font-size: 0.8em; font-weight: bold; line-height: 1; border-radius: 0.35em; vertical-align: middle; margin-left: 0.5rem\">Skills </span>\n",
       "</mark>\n",
       " the sales of a car manufacturer dealer network. A matched-pair, cluster-randomized design, which involved selecting the test and control groups</br>from a sample of 50+ cities in Spain (where geo-targeted ads were possible) based on their sales\u0002wise similarity over time, using wavelets (and R).MANAGEMENT – SALES (Electrical Eng.)</br>Feb. 2009 – Aug. \n",
       "<mark class=\"entity\" style=\"background: #ddd; padding: 0.45em 0.6em; margin: 0 0.25em; line-height: 1; border-radius: 0.35em;\">\n",
       "    2013 Head\n",
       "    <span style=\"font-size: 0.8em; font-weight: bold; line-height: 1; border-radius: 0.35em; vertical-align: middle; margin-left: 0.5rem\">Designation</span>\n",
       "</mark>\n",
       " of Sales, Spain &amp; Portugal – Test &amp;Measurement dept.YOKOGAWA Madrid, \n",
       "<mark class=\"entity\" style=\"background: #ddd; padding: 0.45em 0.6em; margin: 0 0.25em; line-height: 1; border-radius: 0.35em;\">\n",
       "    Spain Applied analysis\n",
       "    <span style=\"font-size: 0.8em; font-weight: bold; line-height: 1; border-radius: 0.35em; vertical-align: middle; margin-left: 0.5rem\">Skills </span>\n",
       "</mark>\n",
       " of sales and market trends to decide the direction of the department. Led a \n",
       "<mark class=\"entity\" style=\"background: #ddd; padding: 0.45em 0.6em; margin: 0 0.25em; line-height: 1; border-radius: 0.35em;\">\n",
       "    team\n",
       "    <span style=\"font-size: 0.8em; font-weight: bold; line-height: 1; border-radius: 0.35em; vertical-align: middle; margin-left: 0.5rem\">Client</span>\n",
       "</mark>\n",
       " of 7 people</br></div></span>"
      ],
      "text/plain": [
       "<IPython.core.display.HTML object>"
      ]
     },
     "metadata": {},
     "output_type": "display_data"
    }
   ],
   "source": [
    "sentence = \"\"\" Juan Jose Carin Data Scientist Mountain View, CA 94041 650-336-4590 juanjose.carin@gmail.com linkedin.com/in/juanjosecarin | juanjocarin.github.in DATA SCIENCE\n",
    "Jan. 2016 – Mar. 2016 Data Scientist CONENTO Madrid, Spain (working remotely) Designed and implemented the ETL pipeline for a predictive model of traffic on the main roads in eastern Spain (a project for the Spanish government).Automated scripts in R to extract, transform, clean (incl. anomaly detection), and load into MySQL data from multiple data sources: road traffic sensors, accidents, road works, weather.\n",
    "Jun. 2014 – Sep. 2014 Data Scientist CONENTO Madrid, Spain Designed an experiment for Google Spain (conducted in October 2014) to measure the impact of\n",
    "YouTube ads on the sales of a car manufacturer dealer network. A matched-pair, cluster-randomized design, which involved selecting the test and control groups\n",
    "from a sample of 50+ cities in Spain (where geo-targeted ads were possible) based on their sales\u0002wise similarity over time, using wavelets (and R).MANAGEMENT – SALES (Electrical Eng.)\n",
    "Feb. 2009 – Aug. 2013 Head of Sales, Spain & Portugal – Test &Measurement dept.YOKOGAWA Madrid, Spain Applied analysis of sales and market trends to decide the direction of the department. Led a team of 7 people\n",
    "\"\"\"\n",
    "doc = nlp_ner(sentence)\n",
    "\n",
    "from spacy import displacy\n",
    "displacy.render(doc, style= 'ent', jupyter=True)"
   ]
  },
  {
   "cell_type": "code",
   "execution_count": null,
   "id": "dad13c67",
   "metadata": {},
   "outputs": [],
   "source": []
  }
 ],
 "metadata": {
  "kernelspec": {
   "display_name": "Python 3 (ipykernel)",
   "language": "python",
   "name": "python3"
  },
  "language_info": {
   "codemirror_mode": {
    "name": "ipython",
    "version": 3
   },
   "file_extension": ".py",
   "mimetype": "text/x-python",
   "name": "python",
   "nbconvert_exporter": "python",
   "pygments_lexer": "ipython3",
   "version": "3.9.12"
  }
 },
 "nbformat": 4,
 "nbformat_minor": 5
}
